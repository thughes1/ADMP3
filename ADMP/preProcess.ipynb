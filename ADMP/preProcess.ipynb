{
 "cells": [
  {
   "cell_type": "code",
   "execution_count": 3,
   "metadata": {},
   "outputs": [
    {
     "name": "stdout",
     "output_type": "stream",
     "text": [
      "\n",
      "The downloaded binary packages are in\n",
      "\t/var/folders/wx/19gqb3qs7039s9vsdwhxr9fr0000gn/T//RtmpdFPqql/downloaded_packages\n"
     ]
    }
   ],
   "source": [
    "install.packages('sparklyr')\n",
    "install.packages('dplyr')"
   ]
  },
  {
   "cell_type": "code",
   "execution_count": 43,
   "metadata": {},
   "outputs": [
    {
     "name": "stderr",
     "output_type": "stream",
     "text": [
      "Re-using existing Spark connection to local\n",
      "\n"
     ]
    }
   ],
   "source": [
    "filterData <- function(df){\n",
    "  # Filter by year (2018-2021), region_name\n",
    "  filtered <- df %>%\n",
    "    filter(year(count_date) %in% c(2018:2021) & region_name == \"London\")\n",
    "  return(filtered)\n",
    "}\n",
    "# ------------------------------------------------------------------------------\n",
    "\n",
    "# ------------------------- TODO//: Add counts for both directions -------------\n",
    "\n",
    "addCounts <- function(df){\n",
    "    # TODO: Add all the other types of vehicle\n",
    "    # Counts are measured in both directions, thus add them to get total traffic\n",
    "    # that passes through area \n",
    "    \n",
    "    # IF hour & count_date & local_authority_name are the same \n",
    "    # Add car_and_taxis etc... \n",
    "\n",
    "    # aggregate count_values_1, count_values_2, and count_values_3 by local_authority_name, hour, and count_date\n",
    "    agg_df <- aggregate(cbind(cars_and_taxis, buses_and_coaches, lgvs) ~ local_authority_name + hour + count_date, data = df, sum)\n",
    "    write.csv(agg_df, \"addedData.csv\", row.names = FALSE)\n",
    "    \n",
    "    # view the aggregated dataframe\n",
    "    #print(agg_df)\n",
    "    return(add_df)\n",
    "}\n",
    "# ------------------------------------------------------------------------------\n",
    "\n",
    "# -------------------------- Remove Outliers -----------------------------------\n",
    "remOutliers <- function(df){\n",
    "  # Remove values that exceed 3*Standard deviation \n",
    "  threshold <-3\n",
    "  # Convert type to numeric as currently NULL (for some reason...)\n",
    "  df$all_motor_vehicles <- as.numeric(df$'all_motor_vehicles')\n",
    "  # Calc mean\n",
    "  mean_value <- mean(df$all_motor_vehicles)\n",
    "  # Calc SD\n",
    "  sd_value <- sd(df$all_motor_vehicles)\n",
    "  # Create new df that excludes outliers \n",
    "  df_new <- subset(df, all_motor_vehicles > (mean_value - threshold * sd_value)\n",
    "                   & all_motor_vehicles < (mean_value + threshold * sd_value))\n",
    "  # Return new df \n",
    "  return(df_new)\n",
    "}\n",
    "# ------------------------------------------------------------------------------\n",
    "\n",
    "# --------------------- Check/Remove missing Values ----------------------------\n",
    "checkMissing <- function(df) {\n",
    "  # Collect data frame in R to calculate missing values\n",
    "  missing_local <- collect(df)\n",
    "  # Count missing values in each column\n",
    "  missing_counts <- sapply(missing_local, function(x) sum(is.na(x)))\n",
    "  # Get the column names that have no missing values\n",
    "  cols_to_keep <- names(missing_counts[missing_counts == 0])\n",
    "  # Remove columns that contain missing values\n",
    "  df <- df %>% select(cols_to_keep)\n",
    "  return(df)\n",
    "}\n",
    "# --------------------- Change format of time ----------------------------------\n",
    "formatTime <- function(df){\n",
    "  # Replace 1,2,3 with 01:00:00,02:00:00,03:00:00 etc...\n",
    "  df <- df %>%\n",
    "    mutate(hour = ifelse(hour < 10, paste0(\"0\", hour, \":00:00\"), \n",
    "                         paste0(hour, \":00:00\")))\n",
    "  return(df)\n",
    "}\n",
    "# ------------------------------------------------------------------------------\n",
    "\n",
    "main <- function(){\n",
    "  # Connect to Apache Spark\n",
    "  sc <- spark_connect(master = \"local\")\n",
    "  # Read vehicle count csv file into Spark data frame \n",
    "  df <- spark_read_csv(sc, \"vehicleCount.csv\", infer_schema = TRUE)\n",
    "  # Pipeline for transforming data\n",
    "  df <- df %>%\n",
    "    # Filter by loc and date\n",
    "    filterData() %>%\n",
    "    # Remove missing values\n",
    "    checkMissing() %>%\n",
    "    # Format the time\n",
    "    formatTime() %>%\n",
    "    # Remove outliers\n",
    "    #remOutliers()\n",
    "    addCounts()\n",
    "  #print(df)  \n",
    "  # Disconnect from Spark connection\n",
    "  spark_disconnect(sc)\n",
    "}\n",
    "\n",
    "main()\n"
   ]
  },
  {
   "cell_type": "code",
   "execution_count": null,
   "metadata": {},
   "outputs": [],
   "source": []
  },
  {
   "cell_type": "code",
   "execution_count": 36,
   "metadata": {},
   "outputs": [],
   "source": [
    "spark_disconnect(sc)"
   ]
  },
  {
   "cell_type": "code",
   "execution_count": null,
   "metadata": {},
   "outputs": [],
   "source": []
  }
 ],
 "metadata": {
  "kernelspec": {
   "display_name": "R",
   "language": "R",
   "name": "ir"
  },
  "language_info": {
   "codemirror_mode": "r",
   "file_extension": ".r",
   "mimetype": "text/x-r-source",
   "name": "R",
   "pygments_lexer": "r",
   "version": "4.2.3"
  }
 },
 "nbformat": 4,
 "nbformat_minor": 4
}
